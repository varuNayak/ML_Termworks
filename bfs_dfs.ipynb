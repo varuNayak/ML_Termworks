{
 "cells": [
  {
   "cell_type": "code",
   "execution_count": 5,
   "id": "64d0d744-30bd-4d9f-b045-2a345813cf1c",
   "metadata": {},
   "outputs": [
    {
     "name": "stdout",
     "output_type": "stream",
     "text": [
      "Following is the Breadth-First Search\n",
      "5 3 7 2 4 8 \n",
      "Following is the Depth-First Search\n",
      "5 3 2 4 8 7 "
     ]
    }
   ],
   "source": [
    "graph = {\n",
    "  '5' : ['3','7'],\n",
    "  '3' : ['2', '4'],\n",
    "  '7' : ['8'],\n",
    "  '2' : [],\n",
    "  '4' : ['8'],\n",
    "  '8' : []\n",
    "}\n",
    "\n",
    "visited = [] # List for visited nodes.\n",
    "queue = []     #Initialize a queue\n",
    "visit = set() # Set to keep track of visited nodes.\n",
    "\n",
    "\n",
    "def bfs(visited, graph, node): #function for BFS\n",
    "  visited.append(node)\n",
    "  queue.append(node)\n",
    "\n",
    "  while queue:          # Creating loop to visit each node\n",
    "    m = queue.pop(0) \n",
    "    print (m, end = \" \") \n",
    "\n",
    "    for neighbour in graph[m]:\n",
    "      if neighbour not in visited:\n",
    "        visited.append(neighbour)\n",
    "        queue.append(neighbour)\n",
    "        \n",
    "def dfs(visit, graph, node):\n",
    "    if node not in visit:\n",
    "        print (node, end = \" \")\n",
    "        visit.add(node)\n",
    "        for neighbour in graph[node]:\n",
    "            dfs(visit, graph, neighbour)\n",
    "\n",
    "# Driver Code\n",
    "print(\"Following is the Breadth-First Search\")\n",
    "bfs(visited, graph, '5')\n",
    "print()\n",
    "print(\"Following is the Depth-First Search\")\n",
    "dfs(visit, graph, '5')\n",
    "\n"
   ]
  },
  {
   "cell_type": "code",
   "execution_count": 14,
   "id": "94c5d4b2",
   "metadata": {},
   "outputs": [
    {
     "name": "stdout",
     "output_type": "stream",
     "text": [
      "Following is the Breadth-First Search\n",
      "1 2 3 4 5 6 7 "
     ]
    },
    {
     "ename": "KeyError",
     "evalue": "'7'",
     "output_type": "error",
     "traceback": [
      "\u001b[0;31m---------------------------------------------------------------------------\u001b[0m",
      "\u001b[0;31mKeyError\u001b[0m                                  Traceback (most recent call last)",
      "Cell \u001b[0;32mIn [14], line 45\u001b[0m\n\u001b[1;32m     43\u001b[0m \u001b[38;5;66;03m# Driver Code\u001b[39;00m\n\u001b[1;32m     44\u001b[0m \u001b[38;5;28mprint\u001b[39m(\u001b[38;5;124m\"\u001b[39m\u001b[38;5;124mFollowing is the Breadth-First Search\u001b[39m\u001b[38;5;124m\"\u001b[39m)\n\u001b[0;32m---> 45\u001b[0m \u001b[43mbfs\u001b[49m\u001b[43m(\u001b[49m\u001b[43mvisited\u001b[49m\u001b[43m,\u001b[49m\u001b[43m \u001b[49m\u001b[43mgraph\u001b[49m\u001b[43m,\u001b[49m\u001b[43m \u001b[49m\u001b[38;5;124;43m'\u001b[39;49m\u001b[38;5;124;43m1\u001b[39;49m\u001b[38;5;124;43m'\u001b[39;49m\u001b[43m)\u001b[49m\n\u001b[1;32m     46\u001b[0m \u001b[38;5;28mprint\u001b[39m()\n\u001b[1;32m     47\u001b[0m \u001b[38;5;28mprint\u001b[39m(\u001b[38;5;124m\"\u001b[39m\u001b[38;5;124mFollowing is the Depth-First Search\u001b[39m\u001b[38;5;124m\"\u001b[39m)\n",
      "Cell \u001b[0;32mIn [14], line 29\u001b[0m, in \u001b[0;36mbfs\u001b[0;34m(visited, graph, node)\u001b[0m\n\u001b[1;32m     26\u001b[0m m \u001b[38;5;241m=\u001b[39m queue\u001b[38;5;241m.\u001b[39mpop(\u001b[38;5;241m0\u001b[39m) \n\u001b[1;32m     27\u001b[0m \u001b[38;5;28mprint\u001b[39m (m, end \u001b[38;5;241m=\u001b[39m \u001b[38;5;124m\"\u001b[39m\u001b[38;5;124m \u001b[39m\u001b[38;5;124m\"\u001b[39m) \n\u001b[0;32m---> 29\u001b[0m \u001b[38;5;28;01mfor\u001b[39;00m neighbour \u001b[38;5;129;01min\u001b[39;00m \u001b[43mgraph\u001b[49m\u001b[43m[\u001b[49m\u001b[43mm\u001b[49m\u001b[43m]\u001b[49m:\n\u001b[1;32m     30\u001b[0m   \u001b[38;5;28;01mif\u001b[39;00m neighbour \u001b[38;5;129;01mnot\u001b[39;00m \u001b[38;5;129;01min\u001b[39;00m visited:\n\u001b[1;32m     31\u001b[0m     visited\u001b[38;5;241m.\u001b[39mappend(neighbour)\n",
      "\u001b[0;31mKeyError\u001b[0m: '7'"
     ]
    }
   ],
   "source": [
    "graph = {\n",
    "  '1' : ['2','3'],\n",
    "  '2' : ['4', '5'],\n",
    "  '3' : ['6','7'],\n",
    "  '4' : ['8','9'],\n",
    "  '5' : ['10','11'],\n",
    "  '6' : ['12', '13'],\n",
    "  '8' : [],\n",
    "  '9' : [],\n",
    "  '10' : [],\n",
    "  '11' : [],\n",
    "  '12' : [],\n",
    "  '13' : []\n",
    "}\n",
    "\n",
    "visited = [] # List for visited nodes.\n",
    "queue = []     #Initialize a queue\n",
    "visit = set() # Set to keep track of visited nodes.\n",
    "\n",
    "\n",
    "def bfs(visited, graph, node): #function for BFS\n",
    "  visited.append(node)\n",
    "  queue.append(node)\n",
    "\n",
    "  while queue:          # Creating loop to visit each node\n",
    "    m = queue.pop(0) \n",
    "    print (m, end = \" \") \n",
    "\n",
    "    for neighbour in graph[m]:\n",
    "      if neighbour not in visited:\n",
    "        visited.append(neighbour)\n",
    "        queue.append(neighbour)\n",
    "    #dfs(visit, graph, m)\n",
    "  \n",
    "        \n",
    "def dfs(visit, graph, node):\n",
    "    if node not in visit:\n",
    "        print (node, end = \" \")\n",
    "        visit.add(node)\n",
    "        for neighbour in graph[node]:\n",
    "            dfs(visit, graph, neighbour)\n",
    "\n",
    "# Driver Code\n",
    "print(\"Following is the Breadth-First Search\")\n",
    "bfs(visited, graph, '1')\n",
    "print()\n",
    "print(\"Following is the Depth-First Search\")\n",
    "dfs(visit, graph, '1')\n",
    "\n"
   ]
  },
  {
   "cell_type": "code",
   "execution_count": null,
   "id": "99b391cc-4c1b-462e-976d-5d2ee67844a0",
   "metadata": {},
   "outputs": [],
   "source": []
  },
  {
   "cell_type": "code",
   "execution_count": null,
   "id": "2ddc59ee-8797-4491-ba5c-dfd2f17d4cc8",
   "metadata": {},
   "outputs": [],
   "source": []
  }
 ],
 "metadata": {
  "kernelspec": {
   "display_name": "Python 3.9.6 64-bit",
   "language": "python",
   "name": "python3"
  },
  "language_info": {
   "codemirror_mode": {
    "name": "ipython",
    "version": 3
   },
   "file_extension": ".py",
   "mimetype": "text/x-python",
   "name": "python",
   "nbconvert_exporter": "python",
   "pygments_lexer": "ipython3",
   "version": "3.9.6"
  },
  "vscode": {
   "interpreter": {
    "hash": "31f2aee4e71d21fbe5cf8b01ff0e069b9275f58929596ceb00d14d90e3e16cd6"
   }
  }
 },
 "nbformat": 4,
 "nbformat_minor": 5
}
